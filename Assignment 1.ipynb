{
 "cells": [
  {
   "cell_type": "markdown",
   "id": "675ed337",
   "metadata": {},
   "source": [
    "### 1. In the below elements which of them are values or an expression? eg:- values can be integer or string and expressions will be mathematical operators.\n",
    "#### *       - expression\n",
    "#### hello   - value\n",
    "####  -87.8   - value\n",
    "####  -       - expression\n",
    "####  /       - expression\n",
    "####  +       - expression\n",
    "####  6       - value\n"
   ]
  },
  {
   "cell_type": "markdown",
   "id": "2b6dfdb6",
   "metadata": {},
   "source": [
    "### 2. What is the difference between string and variable?\n",
    "string is one of the value,which can be store in variable.eg of string=\"be happy always\"\n",
    "variable is the container of values.eg of variable a=\"be happy always\".Here \"a\" is variable which contains the value(string)\"be happy always\"."
   ]
  },
  {
   "cell_type": "markdown",
   "id": "1d7333d9",
   "metadata": {},
   "source": [
    "### 3. Describe three different data types.\n",
    "int: int is one of the datatype.it contains integer eg 1,20,562,etc..\n",
    "list:A list is the collection of elements that belongs to different data types and it is enclose using square brackets .eg.list=[1,\"goodness\",50.3]\n",
    "dictionary:It contains key,value pair and enclose using flower bracke.eg dict={\"name\":\"poornimarthy\"}.\n",
    "    "
   ]
  },
  {
   "cell_type": "markdown",
   "id": "4f9ef13d",
   "metadata": {},
   "source": [
    "### 4.What is an expression made up of? What do all expressions do?\n",
    "Expression is made up of operators and values.\n",
    "10+2 is one of the example for expression.In this symbol + is an operator,10 and 2 is values.\n",
    "An expression is an instruction that combines values and operators.\n"
   ]
  },
  {
   "cell_type": "markdown",
   "id": "33c34e1e",
   "metadata": {},
   "source": [
    "### 5. This assignment statements, like spam = 10. What is the difference between an expression and a statement?\n",
    "Assignment statement assign value to the variable.\n",
    "Expression is an instruction that combines values and operators that is interpreted to produce some other value.\n"
   ]
  },
  {
   "cell_type": "code",
   "execution_count": 19,
   "id": "3cd9c59f",
   "metadata": {},
   "outputs": [
    {
     "data": {
      "text/plain": [
       "23"
      ]
     },
     "execution_count": 19,
     "metadata": {},
     "output_type": "execute_result"
    }
   ],
   "source": [
    "# 6. After running the following code,what does the variable bacon contain?\n",
    "bacon = 22\n",
    "bacon +1"
   ]
  },
  {
   "cell_type": "code",
   "execution_count": 20,
   "id": "62f80242",
   "metadata": {},
   "outputs": [
    {
     "data": {
      "text/plain": [
       "'spam spam spam '"
      ]
     },
     "execution_count": 20,
     "metadata": {},
     "output_type": "execute_result"
    }
   ],
   "source": [
    "# 7.What should the values of the following two terms be?\n",
    "\"spam\" + \"spamspam\"\n",
    "\"spam \"* 3\n",
    "\n"
   ]
  },
  {
   "cell_type": "markdown",
   "id": "1f5fe5cb",
   "metadata": {},
   "source": [
    "### 8.Why is eggs a valid variable name while 100 is invalid?\n",
    "Because variable name must be either in alphabets or alphanumeric. variable name cannot begin with a number."
   ]
  },
  {
   "cell_type": "markdown",
   "id": "f5e3e9e7",
   "metadata": {},
   "source": [
    "### 9.What three functions can be used to get the integer, floating-point number, or string version of a value?\n",
    "\n",
    "int()\n",
    "float()\n",
    "str()"
   ]
  },
  {
   "cell_type": "code",
   "execution_count": 15,
   "id": "bc6b891c",
   "metadata": {},
   "outputs": [
    {
     "data": {
      "text/plain": [
       "'I have eaten99burritos'"
      ]
     },
     "execution_count": 15,
     "metadata": {},
     "output_type": "execute_result"
    }
   ],
   "source": [
    "#10. Why does this expression cause an error? How can you fix it?\n",
    "\"I have eaten\"  + \"99\" +  \"burritos\""
   ]
  },
  {
   "cell_type": "code",
   "execution_count": null,
   "id": "911cc3d8",
   "metadata": {},
   "outputs": [],
   "source": []
  }
 ],
 "metadata": {
  "kernelspec": {
   "display_name": "Python 3 (ipykernel)",
   "language": "python",
   "name": "python3"
  },
  "language_info": {
   "codemirror_mode": {
    "name": "ipython",
    "version": 3
   },
   "file_extension": ".py",
   "mimetype": "text/x-python",
   "name": "python",
   "nbconvert_exporter": "python",
   "pygments_lexer": "ipython3",
   "version": "3.9.7"
  }
 },
 "nbformat": 4,
 "nbformat_minor": 5
}
